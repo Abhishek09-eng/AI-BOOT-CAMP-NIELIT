{
  "nbformat": 4,
  "nbformat_minor": 0,
  "metadata": {
    "colab": {
      "provenance": []
    },
    "kernelspec": {
      "name": "python3",
      "display_name": "Python 3"
    },
    "language_info": {
      "name": "python"
    }
  },
  "cells": [
    {
      "cell_type": "code",
      "execution_count": 1,
      "metadata": {
        "colab": {
          "base_uri": "https://localhost:8080/"
        },
        "id": "JePzj_3Bvd5i",
        "outputId": "2a267f0e-50bb-4ddf-ec06-bb5fc9205fcc"
      },
      "outputs": [
        {
          "output_type": "stream",
          "name": "stdout",
          "text": [
            "hello world\n"
          ]
        }
      ],
      "source": [
        "print(\"hello world\")"
      ]
    },
    {
      "cell_type": "code",
      "source": [
        "a=5\n",
        "b=6.5\n",
        "#addition\n",
        "c=a+b\n",
        "print(\"the sum of two numberis\",c)"
      ],
      "metadata": {
        "colab": {
          "base_uri": "https://localhost:8080/"
        },
        "id": "4UR4t1HTwczb",
        "outputId": "de736967-a54a-43aa-ab7b-27078c83d95f"
      },
      "execution_count": 2,
      "outputs": [
        {
          "output_type": "stream",
          "name": "stdout",
          "text": [
            "the sum of two numberis 11.5\n"
          ]
        }
      ]
    },
    {
      "cell_type": "code",
      "source": [
        "j=float(input(\"enter first number:\"))\n",
        "k=float(input(\"enter second number:\"))\n",
        "r=float(input(\"enter third number:\"))\n",
        "u=j*k*r\n",
        "print(\"the product of two numberis\",u)"
      ],
      "metadata": {
        "colab": {
          "base_uri": "https://localhost:8080/"
        },
        "id": "zoti91oexmsJ",
        "outputId": "eb8adf0c-f3a5-448c-e3bb-39110dbde6a0"
      },
      "execution_count": 4,
      "outputs": [
        {
          "output_type": "stream",
          "name": "stdout",
          "text": [
            "enter first number:837483784\n",
            "enter second number:8734687365\n",
            "enter third number:89237482\n",
            "the product of two numberis 6.527863719541804e+26\n"
          ]
        }
      ]
    },
    {
      "cell_type": "code",
      "source": [
        "h=6\n",
        "g=8\n",
        "#divide\n",
        "j=h/g\n",
        "print(\"the divide of two number\",j)\n"
      ],
      "metadata": {
        "colab": {
          "base_uri": "https://localhost:8080/"
        },
        "id": "HqglOueFzo_d",
        "outputId": "30960416-67fc-45bf-de77-82bbbae7d425"
      },
      "execution_count": 5,
      "outputs": [
        {
          "output_type": "stream",
          "name": "stdout",
          "text": [
            "the divide of two number 0.75\n"
          ]
        }
      ]
    },
    {
      "cell_type": "code",
      "source": [
        "h=float(input(\"enter first number:\"))\n",
        "o=float(input(\"enter second number:\"))\n",
        "n=h-0\n",
        "print(\"the subtraction of two number:\",n)\n"
      ],
      "metadata": {
        "colab": {
          "base_uri": "https://localhost:8080/"
        },
        "id": "exE5m8Ra1SPR",
        "outputId": "84bde81f-ce74-46a1-cdca-07142cd6ddf8"
      },
      "execution_count": 6,
      "outputs": [
        {
          "output_type": "stream",
          "name": "stdout",
          "text": [
            "enter first number:7867\n",
            "enter second number:7\n",
            "the subtraction of two number: 7867.0\n"
          ]
        }
      ]
    }
  ]
}